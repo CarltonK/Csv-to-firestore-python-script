{
 "cells": [
  {
   "cell_type": "code",
   "execution_count": 2,
   "metadata": {},
   "outputs": [
    {
     "name": "stdout",
     "output_type": "stream",
     "text": [
      "Collecting firebase-admin\n",
      "  Downloading https://files.pythonhosted.org/packages/e8/cc/fdb4c73da5ab09ac0e8a5815febf82fb36dcbde57b00c569f2a52819ce45/firebase_admin-5.0.1-py3-none-any.whl (113kB)\n",
      "Collecting google-api-python-client>=1.7.8 (from firebase-admin)\n",
      "  Downloading https://files.pythonhosted.org/packages/94/d8/e50532974fe37faaf7d6cecf765e25729815f17695f0c811e0f1faf7ee5f/google_api_python_client-2.15.0-py2.py3-none-any.whl (7.2MB)\n",
      "Collecting google-cloud-storage>=1.37.1 (from firebase-admin)\n",
      "  Downloading https://files.pythonhosted.org/packages/3c/54/26ddd4f55c7881e3a8f0a4fdde8d5a936003771e3ec2f7f34da29cd9cd92/google_cloud_storage-1.41.1-py2.py3-none-any.whl (105kB)\n",
      "Collecting cachecontrol>=0.12.6 (from firebase-admin)\n",
      "  Downloading https://files.pythonhosted.org/packages/18/71/0a9df4206a5dc5ae7609c41efddab2270a2c1ff61d39de7591dc7302ef89/CacheControl-0.12.6-py2.py3-none-any.whl\n",
      "Collecting google-api-core[grpc]<2.0.0dev,>=1.22.1; platform_python_implementation != \"PyPy\" (from firebase-admin)\n",
      "  Downloading https://files.pythonhosted.org/packages/bd/66/2770f0ab68394711e8a299d97b268fa31fc11ba3ac22885096db14a74fcc/google_api_core-1.31.1-py2.py3-none-any.whl (93kB)\n",
      "Collecting google-cloud-firestore>=2.1.0; platform_python_implementation != \"PyPy\" (from firebase-admin)\n",
      "  Downloading https://files.pythonhosted.org/packages/24/4a/35fa6c49a48e596e789a87172df12c2bad2baaebb1bbd228243dcd2786a5/google_cloud_firestore-2.2.0-py2.py3-none-any.whl (213kB)\n",
      "Collecting httplib2<1dev,>=0.15.0 (from google-api-python-client>=1.7.8->firebase-admin)\n",
      "  Downloading https://files.pythonhosted.org/packages/15/dc/d14bce03f4bfd0214b90a3f556d7c96f75bb94ad597c816a641b962f22e9/httplib2-0.19.1-py3-none-any.whl (95kB)\n",
      "Collecting uritemplate<4dev,>=3.0.0 (from google-api-python-client>=1.7.8->firebase-admin)\n",
      "  Downloading https://files.pythonhosted.org/packages/bf/0c/60d82c077998feb631608dca3cc1fe19ac074e772bf0c24cf409b977b815/uritemplate-3.0.1-py2.py3-none-any.whl\n",
      "Collecting google-auth-httplib2>=0.1.0 (from google-api-python-client>=1.7.8->firebase-admin)\n",
      "  Downloading https://files.pythonhosted.org/packages/ba/db/721e2f3f32339080153995d16e46edc3a7657251f167ddcb9327e632783b/google_auth_httplib2-0.1.0-py2.py3-none-any.whl\n",
      "Collecting google-auth<3.0.0dev,>=1.16.0 (from google-api-python-client>=1.7.8->firebase-admin)\n",
      "  Downloading https://files.pythonhosted.org/packages/35/bb/694d851e2c0776a422d43d579b82b7cc065da248d557f37595563824b1c9/google_auth-1.34.0-py2.py3-none-any.whl (152kB)\n",
      "Requirement already satisfied: requests<3.0.0dev,>=2.18.0 in c:\\users\\eriqu\\anaconda3\\lib\\site-packages (from google-cloud-storage>=1.37.1->firebase-admin) (2.21.0)\n",
      "Collecting google-cloud-core<3.0dev,>=1.6.0; python_version >= \"3.6\" (from google-cloud-storage>=1.37.1->firebase-admin)\n",
      "  Downloading https://files.pythonhosted.org/packages/f0/55/e8253cfd0b811cd0dc934a980c3842bfb8064944e363c1e6245f0c8a46c6/google_cloud_core-1.7.2-py2.py3-none-any.whl\n",
      "Collecting google-resumable-media<3.0dev,>=1.3.0; python_version >= \"3.6\" (from google-cloud-storage>=1.37.1->firebase-admin)\n",
      "  Downloading https://files.pythonhosted.org/packages/a8/2b/e342559b2e7c125c06b33f6a8028afaf35378202b6764b41894ab5fb48f5/google_resumable_media-1.3.3-py2.py3-none-any.whl (75kB)\n",
      "Requirement already satisfied: msgpack>=0.5.2 in c:\\users\\eriqu\\anaconda3\\lib\\site-packages (from cachecontrol>=0.12.6->firebase-admin) (0.6.1)\n",
      "Collecting six>=1.13.0 (from google-api-core[grpc]<2.0.0dev,>=1.22.1; platform_python_implementation != \"PyPy\"->firebase-admin)\n",
      "  Downloading https://files.pythonhosted.org/packages/d9/5a/e7c31adbe875f2abbb91bd84cf2dc52d792b5a01506781dbcf25c91daf11/six-1.16.0-py2.py3-none-any.whl\n",
      "Requirement already satisfied: setuptools>=40.3.0 in c:\\users\\eriqu\\anaconda3\\lib\\site-packages (from google-api-core[grpc]<2.0.0dev,>=1.22.1; platform_python_implementation != \"PyPy\"->firebase-admin) (40.8.0)\n",
      "Requirement already satisfied: pytz in c:\\users\\eriqu\\anaconda3\\lib\\site-packages (from google-api-core[grpc]<2.0.0dev,>=1.22.1; platform_python_implementation != \"PyPy\"->firebase-admin) (2018.9)\n",
      "Requirement already satisfied: packaging>=14.3 in c:\\users\\eriqu\\anaconda3\\lib\\site-packages (from google-api-core[grpc]<2.0.0dev,>=1.22.1; platform_python_implementation != \"PyPy\"->firebase-admin) (19.0)\n",
      "Collecting googleapis-common-protos<2.0dev,>=1.6.0 (from google-api-core[grpc]<2.0.0dev,>=1.22.1; platform_python_implementation != \"PyPy\"->firebase-admin)\n",
      "  Downloading https://files.pythonhosted.org/packages/55/08/796a6bc0b550e2b7116041c953d3d5100016abea106131d71e5651826e7b/googleapis_common_protos-1.53.0-py2.py3-none-any.whl (198kB)\n",
      "Collecting protobuf>=3.12.0 (from google-api-core[grpc]<2.0.0dev,>=1.22.1; platform_python_implementation != \"PyPy\"->firebase-admin)\n",
      "  Downloading https://files.pythonhosted.org/packages/fe/b6/0b5fedc572c8771aa4f4916f81ef404203bafbd7461e859c3338316ec016/protobuf-3.17.3-cp37-cp37m-win_amd64.whl (909kB)\n",
      "Collecting grpcio<2.0dev,>=1.29.0; extra == \"grpc\" (from google-api-core[grpc]<2.0.0dev,>=1.22.1; platform_python_implementation != \"PyPy\"->firebase-admin)\n",
      "  Downloading https://files.pythonhosted.org/packages/b1/40/50b0c1c805663a10e7772c50cd64cc707a9564fbe075de50533989bcdad9/grpcio-1.39.0-cp37-cp37m-win_amd64.whl (3.2MB)\n",
      "Collecting proto-plus>=1.10.0 (from google-cloud-firestore>=2.1.0; platform_python_implementation != \"PyPy\"->firebase-admin)\n",
      "  Downloading https://files.pythonhosted.org/packages/8c/72/6f3f4cdc5bb0294f8d7f3f8aacb617b4c3cb17554ed78f7e28009162c795/proto_plus-1.19.0-py3-none-any.whl (42kB)\n",
      "Collecting pyparsing<3,>=2.4.2 (from httplib2<1dev,>=0.15.0->google-api-python-client>=1.7.8->firebase-admin)\n",
      "  Downloading https://files.pythonhosted.org/packages/8a/bb/488841f56197b13700afd5658fc279a2025a39e22449b7cf29864669b15d/pyparsing-2.4.7-py2.py3-none-any.whl (67kB)\n",
      "Collecting pyasn1-modules>=0.2.1 (from google-auth<3.0.0dev,>=1.16.0->google-api-python-client>=1.7.8->firebase-admin)\n",
      "  Downloading https://files.pythonhosted.org/packages/95/de/214830a981892a3e286c3794f41ae67a4495df1108c3da8a9f62159b9a9d/pyasn1_modules-0.2.8-py2.py3-none-any.whl (155kB)\n",
      "Collecting rsa<5,>=3.1.4; python_version >= \"3.6\" (from google-auth<3.0.0dev,>=1.16.0->google-api-python-client>=1.7.8->firebase-admin)\n",
      "  Downloading https://files.pythonhosted.org/packages/e9/93/0c0f002031f18b53af7a6166103c02b9c0667be528944137cc954ec921b3/rsa-4.7.2-py3-none-any.whl\n",
      "Collecting cachetools<5.0,>=2.0.0 (from google-auth<3.0.0dev,>=1.16.0->google-api-python-client>=1.7.8->firebase-admin)\n",
      "  Downloading https://files.pythonhosted.org/packages/bf/28/c4f5796c67ad06bb91d98d543a5e01805c1ff065e08871f78e52d2a331ad/cachetools-4.2.2-py3-none-any.whl\n",
      "Requirement already satisfied: idna<2.9,>=2.5 in c:\\users\\eriqu\\anaconda3\\lib\\site-packages (from requests<3.0.0dev,>=2.18.0->google-cloud-storage>=1.37.1->firebase-admin) (2.8)\n",
      "Requirement already satisfied: certifi>=2017.4.17 in c:\\users\\eriqu\\anaconda3\\lib\\site-packages (from requests<3.0.0dev,>=2.18.0->google-cloud-storage>=1.37.1->firebase-admin) (2019.3.9)\n",
      "Requirement already satisfied: chardet<3.1.0,>=3.0.2 in c:\\users\\eriqu\\anaconda3\\lib\\site-packages (from requests<3.0.0dev,>=2.18.0->google-cloud-storage>=1.37.1->firebase-admin) (3.0.4)\n",
      "Requirement already satisfied: urllib3<1.25,>=1.21.1 in c:\\users\\eriqu\\anaconda3\\lib\\site-packages (from requests<3.0.0dev,>=2.18.0->google-cloud-storage>=1.37.1->firebase-admin) (1.24.1)\n",
      "Collecting google-crc32c<2.0dev,>=1.0; python_version >= \"3.5\" (from google-resumable-media<3.0dev,>=1.3.0; python_version >= \"3.6\"->google-cloud-storage>=1.37.1->firebase-admin)\n",
      "  Downloading https://files.pythonhosted.org/packages/e9/c7/08433c1f824edd7eb5356f0cbea67162084955d42652861de61f47af8c67/google_crc32c-1.1.2-cp37-cp37m-win_amd64.whl\n",
      "Collecting pyasn1<0.5.0,>=0.4.6 (from pyasn1-modules>=0.2.1->google-auth<3.0.0dev,>=1.16.0->google-api-python-client>=1.7.8->firebase-admin)\n",
      "  Downloading https://files.pythonhosted.org/packages/62/1e/a94a8d635fa3ce4cfc7f506003548d0a2447ae76fd5ca53932970fe3053f/pyasn1-0.4.8-py2.py3-none-any.whl (77kB)\n",
      "Requirement already satisfied: cffi>=1.0.0 in c:\\users\\eriqu\\anaconda3\\lib\\site-packages (from google-crc32c<2.0dev,>=1.0; python_version >= \"3.5\"->google-resumable-media<3.0dev,>=1.3.0; python_version >= \"3.6\"->google-cloud-storage>=1.37.1->firebase-admin) (1.12.2)\n",
      "Requirement already satisfied: pycparser in c:\\users\\eriqu\\anaconda3\\lib\\site-packages (from cffi>=1.0.0->google-crc32c<2.0dev,>=1.0; python_version >= \"3.5\"->google-resumable-media<3.0dev,>=1.3.0; python_version >= \"3.6\"->google-cloud-storage>=1.37.1->firebase-admin) (2.19)\n",
      "Installing collected packages: pyparsing, httplib2, uritemplate, six, pyasn1, pyasn1-modules, rsa, cachetools, google-auth, google-auth-httplib2, protobuf, googleapis-common-protos, grpcio, google-api-core, google-api-python-client, google-cloud-core, google-crc32c, google-resumable-media, google-cloud-storage, cachecontrol, proto-plus, google-cloud-firestore, firebase-admin\n",
      "  Found existing installation: pyparsing 2.3.1\n",
      "    Uninstalling pyparsing-2.3.1:\n",
      "      Successfully uninstalled pyparsing-2.3.1\n",
      "  Found existing installation: six 1.12.0\n",
      "    Uninstalling six-1.12.0:\n",
      "      Successfully uninstalled six-1.12.0\n",
      "Successfully installed cachecontrol-0.12.6 cachetools-4.2.2 firebase-admin-5.0.1 google-api-core-1.31.1 google-api-python-client-2.15.0 google-auth-1.34.0 google-auth-httplib2-0.1.0 google-cloud-core-1.7.2 google-cloud-firestore-2.2.0 google-cloud-storage-1.41.1 google-crc32c-1.1.2 google-resumable-media-1.3.3 googleapis-common-protos-1.53.0 grpcio-1.39.0 httplib2-0.19.1 proto-plus-1.19.0 protobuf-3.17.3 pyasn1-0.4.8 pyasn1-modules-0.2.8 pyparsing-2.4.7 rsa-4.7.2 six-1.16.0 uritemplate-3.0.1\n",
      "Note: you may need to restart the kernel to use updated packages.\n"
     ]
    },
    {
     "name": "stderr",
     "output_type": "stream",
     "text": [
      "tables 3.5.1 requires mock>=2.0, which is not installed.\n",
      "astroid 2.2.5 requires typed-ast>=1.3.0; implementation_name == \"cpython\", which is not installed.\n"
     ]
    }
   ],
   "source": [
    "pip install firebase-admin"
   ]
  },
  {
   "cell_type": "code",
   "execution_count": 3,
   "metadata": {},
   "outputs": [],
   "source": [
    "import firebase_admin\n",
    "import google.cloud\n",
    "from firebase_admin import credentials, firestore\n",
    "import csv\n",
    "from datetime import datetime, timedelta"
   ]
  },
  {
   "cell_type": "code",
   "execution_count": 5,
   "metadata": {},
   "outputs": [
    {
     "ename": "ValueError",
     "evalue": "The default Firebase app already exists. This means you called initialize_app() more than once without providing an app name as the second argument. In most cases you only need to call initialize_app() once. But if you do want to initialize multiple apps, pass a second argument to initialize_app() to give each app a unique name.",
     "output_type": "error",
     "traceback": [
      "\u001b[1;31m---------------------------------------------------------------------------\u001b[0m",
      "\u001b[1;31mValueError\u001b[0m                                Traceback (most recent call last)",
      "\u001b[1;32m<ipython-input-5-f2a5d1554ebf>\u001b[0m in \u001b[0;36m<module>\u001b[1;34m\u001b[0m\n\u001b[0;32m      1\u001b[0m \u001b[0mcred\u001b[0m \u001b[1;33m=\u001b[0m \u001b[0mcredentials\u001b[0m\u001b[1;33m.\u001b[0m\u001b[0mCertificate\u001b[0m\u001b[1;33m(\u001b[0m\u001b[1;34m'doctors.json'\u001b[0m\u001b[1;33m)\u001b[0m\u001b[1;33m\u001b[0m\u001b[1;33m\u001b[0m\u001b[0m\n\u001b[1;32m----> 2\u001b[1;33m \u001b[0mapp\u001b[0m \u001b[1;33m=\u001b[0m \u001b[0mfirebase_admin\u001b[0m\u001b[1;33m.\u001b[0m\u001b[0minitialize_app\u001b[0m\u001b[1;33m(\u001b[0m\u001b[0mcred\u001b[0m\u001b[1;33m)\u001b[0m\u001b[1;33m\u001b[0m\u001b[1;33m\u001b[0m\u001b[0m\n\u001b[0m\u001b[0;32m      3\u001b[0m \u001b[0mprint\u001b[0m\u001b[1;33m(\u001b[0m\u001b[0mapp\u001b[0m\u001b[1;33m.\u001b[0m\u001b[0mname\u001b[0m\u001b[1;33m)\u001b[0m\u001b[1;33m\u001b[0m\u001b[1;33m\u001b[0m\u001b[0m\n",
      "\u001b[1;32m~\\Anaconda3\\lib\\site-packages\\firebase_admin\\__init__.py\u001b[0m in \u001b[0;36minitialize_app\u001b[1;34m(credential, options, name)\u001b[0m\n\u001b[0;32m     70\u001b[0m     \u001b[1;32mif\u001b[0m \u001b[0mname\u001b[0m \u001b[1;33m==\u001b[0m \u001b[0m_DEFAULT_APP_NAME\u001b[0m\u001b[1;33m:\u001b[0m\u001b[1;33m\u001b[0m\u001b[1;33m\u001b[0m\u001b[0m\n\u001b[0;32m     71\u001b[0m         raise ValueError((\n\u001b[1;32m---> 72\u001b[1;33m             \u001b[1;34m'The default Firebase app already exists. This means you called '\u001b[0m\u001b[1;33m\u001b[0m\u001b[1;33m\u001b[0m\u001b[0m\n\u001b[0m\u001b[0;32m     73\u001b[0m             \u001b[1;34m'initialize_app() more than once without providing an app name as '\u001b[0m\u001b[1;33m\u001b[0m\u001b[1;33m\u001b[0m\u001b[0m\n\u001b[0;32m     74\u001b[0m             \u001b[1;34m'the second argument. In most cases you only need to call '\u001b[0m\u001b[1;33m\u001b[0m\u001b[1;33m\u001b[0m\u001b[0m\n",
      "\u001b[1;31mValueError\u001b[0m: The default Firebase app already exists. This means you called initialize_app() more than once without providing an app name as the second argument. In most cases you only need to call initialize_app() once. But if you do want to initialize multiple apps, pass a second argument to initialize_app() to give each app a unique name."
     ]
    }
   ],
   "source": [
    "cred = credentials.Certificate('doctors.json')\n",
    "app = firebase_admin.initialize_app(cred)\n"
   ]
  },
  {
   "cell_type": "code",
   "execution_count": 6,
   "metadata": {},
   "outputs": [
    {
     "name": "stdout",
     "output_type": "stream",
     "text": [
      "[DEFAULT]\n"
     ]
    }
   ],
   "source": [
    "print(app.name)"
   ]
  },
  {
   "cell_type": "code",
   "execution_count": 8,
   "metadata": {},
   "outputs": [],
   "source": [
    "store = firestore.client()"
   ]
  },
  {
   "cell_type": "code",
   "execution_count": 9,
   "metadata": {},
   "outputs": [],
   "source": [
    "# Spreadsheet\n",
    "file_path = 'practitioners.csv'"
   ]
  },
  {
   "cell_type": "code",
   "execution_count": 37,
   "metadata": {},
   "outputs": [],
   "source": [
    "def create_and_add(line):\n",
    "#   \n",
    "    \n",
    "#     if loan_fund not in [0,'0']:\n",
    "#         print('User -> {}\\nLoan Fund -> {}'.format(phone,loan_fund))\n",
    "#     #     # Create a user\n",
    "#         user = auth.create_user(\n",
    "#             email = email,\n",
    "#             email_verified = True,\n",
    "#             password = 'secretPassword',\n",
    "#             disabled = False,\n",
    "\n",
    "#         )\n",
    "#         uid = user.uid\n",
    "#         print('Sucessfully created new user: {}'.format(uid))\n",
    "\n",
    "#         link = auth.generate_password_reset_link(email)\n",
    "\n",
    "#         # Add user document\n",
    "#         store.collection('users').document(uid).set({\n",
    "#             'dailySavingsTarget': 0,\n",
    "#             'designation': None,\n",
    "#             'dob': None,\n",
    "#             'gender': None,\n",
    "#             'kinID': None,\n",
    "#             'kinKraUrl': None,\n",
    "#             'kinName': None,\n",
    "#             'kinNatIdURL': None,\n",
    "#             'kinPhone': None,\n",
    "#             'kinPhotoURL': None,\n",
    "#             'kraURL': None,\n",
    "#             'natIDURL': None,\n",
    "#             'natId': natId,\n",
    "#             'photoURL': None,\n",
    "#             'dailyTarget': 14.24,\n",
    "#             'email': email,\n",
    "#             'phoneVerified': False,\n",
    "#             'fullName': fullName,\n",
    "#             'pre-existing': True,\n",
    "#             'loanLimitRatio': loanLimitRatio,\n",
    "#             'monthlyTarget': 427.39,\n",
    "#             'passiveSavingsRate': passiveSavingsRate,\n",
    "#             'phone': phone,\n",
    "#             'platform': 'android',\n",
    "#             'points': 0,\n",
    "#             'uid': uid,\n",
    "#             'token': uid,\n",
    "#             'weeklyTarget': 99.72,\n",
    "#             'registerDate': firestore.SERVER_TIMESTAMP\n",
    "#         })\n",
    "\n",
    "#         # Wallet Collection\n",
    "#         store.collection('users').document(uid).collection('wallet').document(uid).set({\n",
    "#             'amount': wallet\n",
    "#         })\n",
    "\n",
    "#         # Notifications\n",
    "#         store.collection('users').document(uid).collection('notifications').document().set({\n",
    "#             'message': 'Welcome to the new and improved Sortika. We listened to you and included new features to make your experience better. Pick up right where you left off',\n",
    "#             'time': firestore.SERVER_TIMESTAMP\n",
    "#         })\n",
    "\n",
    "#         # Activity\n",
    "#         store.collection('users').document(uid).collection('activity').document().set({\n",
    "#             'activity': 'Welcome to the new and improved Sortika. We listened to you and included new features to make your experience better. Pick up right where you left off',\n",
    "#             'activityDate': firestore.SERVER_TIMESTAMP\n",
    "#         })\n",
    "\n",
    "#         # Loan Fund Goal\n",
    "#         # One year from now end date\n",
    "#         now = datetime.now()\n",
    "#         then = now + timedelta(days = 365)\n",
    "\n",
    "#         store.collection('users').document(uid).collection('goals').document().set({\n",
    "#             'goalAllocation': 100,\n",
    "#             'goalAmount': 5200,\n",
    "#             'goalAmountSaved': loan_fund,\n",
    "#             'goalClass': None,\n",
    "#             'goalCategory': 'Loan Fund',\n",
    "#             'goalCreateDate': firestore.SERVER_TIMESTAMP,\n",
    "#             'goalEndDate': then,\n",
    "#             'uid': uid,\n",
    "#             'goalName': None,\n",
    "#             'goalType': None,\n",
    "#             'growth': None,\n",
    "#             'interest': None,\n",
    "#             'isGoalDeletable': False\n",
    "#         })"
   ]
  },
  {
   "cell_type": "code",
   "execution_count": 16,
   "metadata": {},
   "outputs": [
    {
     "name": "stdout",
     "output_type": "stream",
     "text": [
      "OrderedDict([('REGISTRATION NUMBER', 'A4055'), ('RETENTION STATUS', 'Active'), ('REGISTRATION DATE', ''), ('TITLE', 'DR'), ('FULLNAME', 'Dr CALLEN KWAMBOKA ONYAMBU'), ('LAST NAME', ''), ('FIRST NAME', ''), ('OTHER NAMES', ''), ('Qualifications', 'M.Med(Rad)(Nairobi) 2004,MBChB(Nairobi)1995;'), ('Discipline', ''), ('Specialty', 'RADIOLOGY'), ('Sub_Speciality', ''), ('Address', 'P.O BOX 19976 00202 NAIROBI'), ('CODE', ''), ('OFFICE NUMBER ', ''), ('PERSONAL NUMBER', ''), ('COUNTY ', '')])\n"
     ]
    }
   ],
   "source": [
    "with open(file_path, 'r') as csv_file:\n",
    "    csv_reader = csv.DictReader(csv_file, delimiter = ',')\n",
    "    for line in csv_reader:\n",
    "        registration_number=  line['REGISTRATION NUMBER']\n",
    "        if registration_number=='A4055':\n",
    "            name= line['FULLNAME']\n",
    "            title=name.split(' ')[0]\n",
    "            firstName= name.split(' ')[1]\n",
    "            otherName= name.split(' ')[2::]\n",
    "            otherName= ' '.join(otherName)\n",
    "            fullname=title + \" \" + \" \" + firstName + \" \" + otherName\n",
    "            qualifications =line['Qualifications']\n",
    "            specialty= line['Specialty']\n",
    "            sub_speciality=line['Sub_Speciality']\n",
    "            \n",
    "            address=line['Address']\n",
    "            \n",
    "        \n",
    "            print(line)\n",
    "            store.collection('incoming_users').document().set({\n",
    "                'address':address\n",
    "            })\n",
    "        break"
   ]
  },
  {
   "cell_type": "code",
   "execution_count": 13,
   "metadata": {},
   "outputs": [
    {
     "name": "stdout",
     "output_type": "stream",
     "text": [
      "No Python documentation found for 'DictReader'.\n",
      "Use help() to get the interactive help utility.\n",
      "Use help(str) for help on the str class.\n",
      "\n"
     ]
    }
   ],
   "source": [
    "help('DictReader')"
   ]
  },
  {
   "cell_type": "code",
   "execution_count": 41,
   "metadata": {},
   "outputs": [],
   "source": [
    "def associate_goal_user(phone):\n",
    "    saved_amount = 0\n",
    "    with open(goal_path,'r') as goals_file:\n",
    "        csv_goal_reader = csv.DictReader(goals_file, delimiter = ',')\n",
    "        for line in csv_goal_reader:\n",
    "            user = line['User']\n",
    "            if phone == user:\n",
    "                saved = line['Saved']\n",
    "                saved_amount += float(saved)\n",
    "    return saved_amount"
   ]
  },
  {
   "cell_type": "code",
   "execution_count": 40,
   "metadata": {},
   "outputs": [
    {
     "data": {
      "text/plain": [
       "13096.4"
      ]
     },
     "execution_count": 40,
     "metadata": {},
     "output_type": "execute_result"
    }
   ],
   "source": [
    "# Test\n",
    "associate_goal_user('0719114831')"
   ]
  },
  {
   "cell_type": "code",
   "execution_count": null,
   "metadata": {},
   "outputs": [],
   "source": []
  }
 ],
 "metadata": {
  "kernelspec": {
   "display_name": "Python 3",
   "language": "python",
   "name": "python3"
  },
  "language_info": {
   "codemirror_mode": {
    "name": "ipython",
    "version": 3
   },
   "file_extension": ".py",
   "mimetype": "text/x-python",
   "name": "python",
   "nbconvert_exporter": "python",
   "pygments_lexer": "ipython3",
   "version": "3.7.3"
  }
 },
 "nbformat": 4,
 "nbformat_minor": 2
}
